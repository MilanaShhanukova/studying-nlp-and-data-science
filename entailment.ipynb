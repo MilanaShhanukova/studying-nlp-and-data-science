{
  "nbformat": 4,
  "nbformat_minor": 0,
  "metadata": {
    "accelerator": "GPU",
    "colab": {
      "name": "entailment.ipynb",
      "provenance": [],
      "collapsed_sections": [],
      "toc_visible": true
    },
    "kernelspec": {
      "display_name": "Python 3",
      "name": "python3"
    },
    "language_info": {
      "name": "python"
    },
    "widgets": {
      "application/vnd.jupyter.widget-state+json": {
        "ee18396e2971483f9c538d9381104d33": {
          "model_module": "@jupyter-widgets/controls",
          "model_name": "HBoxModel",
          "state": {
            "_view_name": "HBoxView",
            "_dom_classes": [],
            "_model_name": "HBoxModel",
            "_view_module": "@jupyter-widgets/controls",
            "_model_module_version": "1.5.0",
            "_view_count": null,
            "_view_module_version": "1.5.0",
            "box_style": "",
            "layout": "IPY_MODEL_cf5f9f091aab40039b1c30475e295392",
            "_model_module": "@jupyter-widgets/controls",
            "children": [
              "IPY_MODEL_e54420bb53b3469aa6ef60d14978f264",
              "IPY_MODEL_54d00a0e94e04578b4859670f101e390"
            ]
          }
        },
        "cf5f9f091aab40039b1c30475e295392": {
          "model_module": "@jupyter-widgets/base",
          "model_name": "LayoutModel",
          "state": {
            "_view_name": "LayoutView",
            "grid_template_rows": null,
            "right": null,
            "justify_content": null,
            "_view_module": "@jupyter-widgets/base",
            "overflow": null,
            "_model_module_version": "1.2.0",
            "_view_count": null,
            "flex_flow": null,
            "width": null,
            "min_width": null,
            "border": null,
            "align_items": null,
            "bottom": null,
            "_model_module": "@jupyter-widgets/base",
            "top": null,
            "grid_column": null,
            "overflow_y": null,
            "overflow_x": null,
            "grid_auto_flow": null,
            "grid_area": null,
            "grid_template_columns": null,
            "flex": null,
            "_model_name": "LayoutModel",
            "justify_items": null,
            "grid_row": null,
            "max_height": null,
            "align_content": null,
            "visibility": null,
            "align_self": null,
            "height": null,
            "min_height": null,
            "padding": null,
            "grid_auto_rows": null,
            "grid_gap": null,
            "max_width": null,
            "order": null,
            "_view_module_version": "1.2.0",
            "grid_template_areas": null,
            "object_position": null,
            "object_fit": null,
            "grid_auto_columns": null,
            "margin": null,
            "display": null,
            "left": null
          }
        },
        "e54420bb53b3469aa6ef60d14978f264": {
          "model_module": "@jupyter-widgets/controls",
          "model_name": "FloatProgressModel",
          "state": {
            "_view_name": "ProgressView",
            "style": "IPY_MODEL_467a0713100541a59b91a27525fbcb56",
            "_dom_classes": [],
            "description": "Downloading: 100%",
            "_model_name": "FloatProgressModel",
            "bar_style": "success",
            "max": 642,
            "_view_module": "@jupyter-widgets/controls",
            "_model_module_version": "1.5.0",
            "value": 642,
            "_view_count": null,
            "_view_module_version": "1.5.0",
            "orientation": "horizontal",
            "min": 0,
            "description_tooltip": null,
            "_model_module": "@jupyter-widgets/controls",
            "layout": "IPY_MODEL_fd5ca2e8e23445de871147c7aeac42bd"
          }
        },
        "54d00a0e94e04578b4859670f101e390": {
          "model_module": "@jupyter-widgets/controls",
          "model_name": "HTMLModel",
          "state": {
            "_view_name": "HTMLView",
            "style": "IPY_MODEL_5f54876a663c4d4fa0f6d26c1a5d3b75",
            "_dom_classes": [],
            "description": "",
            "_model_name": "HTMLModel",
            "placeholder": "​",
            "_view_module": "@jupyter-widgets/controls",
            "_model_module_version": "1.5.0",
            "value": " 642/642 [00:15&lt;00:00, 40.9B/s]",
            "_view_count": null,
            "_view_module_version": "1.5.0",
            "description_tooltip": null,
            "_model_module": "@jupyter-widgets/controls",
            "layout": "IPY_MODEL_6f6fc659b9224c08949d1b04e3d16ffd"
          }
        },
        "467a0713100541a59b91a27525fbcb56": {
          "model_module": "@jupyter-widgets/controls",
          "model_name": "ProgressStyleModel",
          "state": {
            "_view_name": "StyleView",
            "_model_name": "ProgressStyleModel",
            "description_width": "initial",
            "_view_module": "@jupyter-widgets/base",
            "_model_module_version": "1.5.0",
            "_view_count": null,
            "_view_module_version": "1.2.0",
            "bar_color": null,
            "_model_module": "@jupyter-widgets/controls"
          }
        },
        "fd5ca2e8e23445de871147c7aeac42bd": {
          "model_module": "@jupyter-widgets/base",
          "model_name": "LayoutModel",
          "state": {
            "_view_name": "LayoutView",
            "grid_template_rows": null,
            "right": null,
            "justify_content": null,
            "_view_module": "@jupyter-widgets/base",
            "overflow": null,
            "_model_module_version": "1.2.0",
            "_view_count": null,
            "flex_flow": null,
            "width": null,
            "min_width": null,
            "border": null,
            "align_items": null,
            "bottom": null,
            "_model_module": "@jupyter-widgets/base",
            "top": null,
            "grid_column": null,
            "overflow_y": null,
            "overflow_x": null,
            "grid_auto_flow": null,
            "grid_area": null,
            "grid_template_columns": null,
            "flex": null,
            "_model_name": "LayoutModel",
            "justify_items": null,
            "grid_row": null,
            "max_height": null,
            "align_content": null,
            "visibility": null,
            "align_self": null,
            "height": null,
            "min_height": null,
            "padding": null,
            "grid_auto_rows": null,
            "grid_gap": null,
            "max_width": null,
            "order": null,
            "_view_module_version": "1.2.0",
            "grid_template_areas": null,
            "object_position": null,
            "object_fit": null,
            "grid_auto_columns": null,
            "margin": null,
            "display": null,
            "left": null
          }
        },
        "5f54876a663c4d4fa0f6d26c1a5d3b75": {
          "model_module": "@jupyter-widgets/controls",
          "model_name": "DescriptionStyleModel",
          "state": {
            "_view_name": "StyleView",
            "_model_name": "DescriptionStyleModel",
            "description_width": "",
            "_view_module": "@jupyter-widgets/base",
            "_model_module_version": "1.5.0",
            "_view_count": null,
            "_view_module_version": "1.2.0",
            "_model_module": "@jupyter-widgets/controls"
          }
        },
        "6f6fc659b9224c08949d1b04e3d16ffd": {
          "model_module": "@jupyter-widgets/base",
          "model_name": "LayoutModel",
          "state": {
            "_view_name": "LayoutView",
            "grid_template_rows": null,
            "right": null,
            "justify_content": null,
            "_view_module": "@jupyter-widgets/base",
            "overflow": null,
            "_model_module_version": "1.2.0",
            "_view_count": null,
            "flex_flow": null,
            "width": null,
            "min_width": null,
            "border": null,
            "align_items": null,
            "bottom": null,
            "_model_module": "@jupyter-widgets/base",
            "top": null,
            "grid_column": null,
            "overflow_y": null,
            "overflow_x": null,
            "grid_auto_flow": null,
            "grid_area": null,
            "grid_template_columns": null,
            "flex": null,
            "_model_name": "LayoutModel",
            "justify_items": null,
            "grid_row": null,
            "max_height": null,
            "align_content": null,
            "visibility": null,
            "align_self": null,
            "height": null,
            "min_height": null,
            "padding": null,
            "grid_auto_rows": null,
            "grid_gap": null,
            "max_width": null,
            "order": null,
            "_view_module_version": "1.2.0",
            "grid_template_areas": null,
            "object_position": null,
            "object_fit": null,
            "grid_auto_columns": null,
            "margin": null,
            "display": null,
            "left": null
          }
        },
        "5bc7cf856917429a917a6d23d4bb6ccc": {
          "model_module": "@jupyter-widgets/controls",
          "model_name": "HBoxModel",
          "state": {
            "_view_name": "HBoxView",
            "_dom_classes": [],
            "_model_name": "HBoxModel",
            "_view_module": "@jupyter-widgets/controls",
            "_model_module_version": "1.5.0",
            "_view_count": null,
            "_view_module_version": "1.5.0",
            "box_style": "",
            "layout": "IPY_MODEL_c3657ae4d8e24d6fab1dc6e465d8b208",
            "_model_module": "@jupyter-widgets/controls",
            "children": [
              "IPY_MODEL_f2ab1dc1eb8c427db80bd1508dac66ab",
              "IPY_MODEL_514b4e9072a146d4adf12cb9d4c7a152"
            ]
          }
        },
        "c3657ae4d8e24d6fab1dc6e465d8b208": {
          "model_module": "@jupyter-widgets/base",
          "model_name": "LayoutModel",
          "state": {
            "_view_name": "LayoutView",
            "grid_template_rows": null,
            "right": null,
            "justify_content": null,
            "_view_module": "@jupyter-widgets/base",
            "overflow": null,
            "_model_module_version": "1.2.0",
            "_view_count": null,
            "flex_flow": null,
            "width": null,
            "min_width": null,
            "border": null,
            "align_items": null,
            "bottom": null,
            "_model_module": "@jupyter-widgets/base",
            "top": null,
            "grid_column": null,
            "overflow_y": null,
            "overflow_x": null,
            "grid_auto_flow": null,
            "grid_area": null,
            "grid_template_columns": null,
            "flex": null,
            "_model_name": "LayoutModel",
            "justify_items": null,
            "grid_row": null,
            "max_height": null,
            "align_content": null,
            "visibility": null,
            "align_self": null,
            "height": null,
            "min_height": null,
            "padding": null,
            "grid_auto_rows": null,
            "grid_gap": null,
            "max_width": null,
            "order": null,
            "_view_module_version": "1.2.0",
            "grid_template_areas": null,
            "object_position": null,
            "object_fit": null,
            "grid_auto_columns": null,
            "margin": null,
            "display": null,
            "left": null
          }
        },
        "f2ab1dc1eb8c427db80bd1508dac66ab": {
          "model_module": "@jupyter-widgets/controls",
          "model_name": "FloatProgressModel",
          "state": {
            "_view_name": "ProgressView",
            "style": "IPY_MODEL_08a083aff10d4102bc794cdfdc847854",
            "_dom_classes": [],
            "description": "Downloading: 100%",
            "_model_name": "FloatProgressModel",
            "bar_style": "success",
            "max": 711456796,
            "_view_module": "@jupyter-widgets/controls",
            "_model_module_version": "1.5.0",
            "value": 711456796,
            "_view_count": null,
            "_view_module_version": "1.5.0",
            "orientation": "horizontal",
            "min": 0,
            "description_tooltip": null,
            "_model_module": "@jupyter-widgets/controls",
            "layout": "IPY_MODEL_eacf38849bf64df799d8b23b0df33edb"
          }
        },
        "514b4e9072a146d4adf12cb9d4c7a152": {
          "model_module": "@jupyter-widgets/controls",
          "model_name": "HTMLModel",
          "state": {
            "_view_name": "HTMLView",
            "style": "IPY_MODEL_67490a5df885442b934e385520e98538",
            "_dom_classes": [],
            "description": "",
            "_model_name": "HTMLModel",
            "placeholder": "​",
            "_view_module": "@jupyter-widgets/controls",
            "_model_module_version": "1.5.0",
            "value": " 711M/711M [00:15&lt;00:00, 46.2MB/s]",
            "_view_count": null,
            "_view_module_version": "1.5.0",
            "description_tooltip": null,
            "_model_module": "@jupyter-widgets/controls",
            "layout": "IPY_MODEL_677bcb6f6f41412da6f235481964b8cf"
          }
        },
        "08a083aff10d4102bc794cdfdc847854": {
          "model_module": "@jupyter-widgets/controls",
          "model_name": "ProgressStyleModel",
          "state": {
            "_view_name": "StyleView",
            "_model_name": "ProgressStyleModel",
            "description_width": "initial",
            "_view_module": "@jupyter-widgets/base",
            "_model_module_version": "1.5.0",
            "_view_count": null,
            "_view_module_version": "1.2.0",
            "bar_color": null,
            "_model_module": "@jupyter-widgets/controls"
          }
        },
        "eacf38849bf64df799d8b23b0df33edb": {
          "model_module": "@jupyter-widgets/base",
          "model_name": "LayoutModel",
          "state": {
            "_view_name": "LayoutView",
            "grid_template_rows": null,
            "right": null,
            "justify_content": null,
            "_view_module": "@jupyter-widgets/base",
            "overflow": null,
            "_model_module_version": "1.2.0",
            "_view_count": null,
            "flex_flow": null,
            "width": null,
            "min_width": null,
            "border": null,
            "align_items": null,
            "bottom": null,
            "_model_module": "@jupyter-widgets/base",
            "top": null,
            "grid_column": null,
            "overflow_y": null,
            "overflow_x": null,
            "grid_auto_flow": null,
            "grid_area": null,
            "grid_template_columns": null,
            "flex": null,
            "_model_name": "LayoutModel",
            "justify_items": null,
            "grid_row": null,
            "max_height": null,
            "align_content": null,
            "visibility": null,
            "align_self": null,
            "height": null,
            "min_height": null,
            "padding": null,
            "grid_auto_rows": null,
            "grid_gap": null,
            "max_width": null,
            "order": null,
            "_view_module_version": "1.2.0",
            "grid_template_areas": null,
            "object_position": null,
            "object_fit": null,
            "grid_auto_columns": null,
            "margin": null,
            "display": null,
            "left": null
          }
        },
        "67490a5df885442b934e385520e98538": {
          "model_module": "@jupyter-widgets/controls",
          "model_name": "DescriptionStyleModel",
          "state": {
            "_view_name": "StyleView",
            "_model_name": "DescriptionStyleModel",
            "description_width": "",
            "_view_module": "@jupyter-widgets/base",
            "_model_module_version": "1.5.0",
            "_view_count": null,
            "_view_module_version": "1.2.0",
            "_model_module": "@jupyter-widgets/controls"
          }
        },
        "677bcb6f6f41412da6f235481964b8cf": {
          "model_module": "@jupyter-widgets/base",
          "model_name": "LayoutModel",
          "state": {
            "_view_name": "LayoutView",
            "grid_template_rows": null,
            "right": null,
            "justify_content": null,
            "_view_module": "@jupyter-widgets/base",
            "overflow": null,
            "_model_module_version": "1.2.0",
            "_view_count": null,
            "flex_flow": null,
            "width": null,
            "min_width": null,
            "border": null,
            "align_items": null,
            "bottom": null,
            "_model_module": "@jupyter-widgets/base",
            "top": null,
            "grid_column": null,
            "overflow_y": null,
            "overflow_x": null,
            "grid_auto_flow": null,
            "grid_area": null,
            "grid_template_columns": null,
            "flex": null,
            "_model_name": "LayoutModel",
            "justify_items": null,
            "grid_row": null,
            "max_height": null,
            "align_content": null,
            "visibility": null,
            "align_self": null,
            "height": null,
            "min_height": null,
            "padding": null,
            "grid_auto_rows": null,
            "grid_gap": null,
            "max_width": null,
            "order": null,
            "_view_module_version": "1.2.0",
            "grid_template_areas": null,
            "object_position": null,
            "object_fit": null,
            "grid_auto_columns": null,
            "margin": null,
            "display": null,
            "left": null
          }
        }
      }
    }
  },
  "cells": [
    {
      "cell_type": "code",
      "metadata": {
        "id": "q6ADbWGu2w4k"
      },
      "source": [
        "!pip install catboost\n",
        "!pip install natasha\n",
        "!pip install transformers"
      ],
      "execution_count": null,
      "outputs": []
    },
    {
      "cell_type": "code",
      "metadata": {
        "colab": {
          "base_uri": "https://localhost:8080/"
        },
        "id": "3SPOiW33F5wf",
        "outputId": "ae65939d-71af-4e3a-c4a4-d7a4f7732732"
      },
      "source": [
        "import time\n",
        "import math\n",
        "import matplotlib\n",
        "matplotlib.rcParams.update({'figure.figsize': (16, 12), 'font.size': 14})\n",
        "import matplotlib.pyplot as plt\n",
        "%matplotlib inline\n",
        "from IPython.display import clear_output\n",
        "\n",
        "import torch\n",
        "import torch.nn as nn\n",
        "from torch.utils.data import Dataset, TensorDataset, DataLoader\n",
        "from torch.nn.utils.rnn import pad_sequence\n",
        "from transformers import BertTokenizer\n",
        "\n",
        "import pandas as pd \n",
        "import numpy as np\n",
        "import re\n",
        "import nltk\n",
        "from string import punctuation\n",
        "from nltk.corpus import stopwords\n",
        "from nltk.stem import WordNetLemmatizer\n",
        "from natasha import (Segmenter, MorphVocab,  NewsEmbedding, NewsMorphTagger, Doc)\n",
        "from sklearn.metrics import f1_score, accuracy_score\n",
        "from sklearn.feature_extraction.text import TfidfVectorizer\n",
        "nltk.download('stopwords')\n",
        "nltk.download('wordnet')\n",
        "\n",
        "\n",
        "import transformers as ppb\n",
        "import warnings\n",
        "warnings.filterwarnings('ignore')"
      ],
      "execution_count": 2,
      "outputs": [
        {
          "output_type": "stream",
          "text": [
            "[nltk_data] Downloading package stopwords to /root/nltk_data...\n",
            "[nltk_data]   Unzipping corpora/stopwords.zip.\n",
            "[nltk_data] Downloading package wordnet to /root/nltk_data...\n",
            "[nltk_data]   Unzipping corpora/wordnet.zip.\n"
          ],
          "name": "stdout"
        }
      ]
    },
    {
      "cell_type": "code",
      "metadata": {
        "id": "EWOPkmUap4dF"
      },
      "source": [
        "russian_stopwords = stopwords.words(\"russian\")"
      ],
      "execution_count": 3,
      "outputs": []
    },
    {
      "cell_type": "code",
      "metadata": {
        "colab": {
          "base_uri": "https://localhost:8080/"
        },
        "id": "7I-qyieXEI7f",
        "outputId": "49b139e4-ea00-4610-d33e-074f272d9fcf"
      },
      "source": [
        "device = torch.device('cuda' if torch.cuda.is_available() else 'cpu')\n",
        "device"
      ],
      "execution_count": 4,
      "outputs": [
        {
          "output_type": "execute_result",
          "data": {
            "text/plain": [
              "device(type='cuda')"
            ]
          },
          "metadata": {
            "tags": []
          },
          "execution_count": 4
        }
      ]
    },
    {
      "cell_type": "code",
      "metadata": {
        "colab": {
          "base_uri": "https://localhost:8080/"
        },
        "id": "06LinuAlgKkd",
        "outputId": "8af991f0-1bdc-48a2-d9e0-34e2523911c2"
      },
      "source": [
        "from google.colab import drive\n",
        "drive.mount('/content/drive')"
      ],
      "execution_count": 5,
      "outputs": [
        {
          "output_type": "stream",
          "text": [
            "Mounted at /content/drive\n"
          ],
          "name": "stdout"
        }
      ]
    },
    {
      "cell_type": "code",
      "metadata": {
        "id": "zaXRUaJ4fIdP"
      },
      "source": [
        "train_data = pd.read_json(path_or_buf=r\"/content/drive/MyDrive/Colab Notebooks/train.jsonl\", lines=True)\n",
        "val_data = pd.read_json(path_or_buf=r\"/content/drive/MyDrive/Colab Notebooks/val.jsonl\", lines=True)\n",
        "test_data = pd.read_json(path_or_buf=r\"/content/drive/MyDrive/Colab Notebooks/test.jsonl\", lines=True)"
      ],
      "execution_count": 6,
      "outputs": []
    },
    {
      "cell_type": "code",
      "metadata": {
        "id": "Wk9p9lXAgrIk"
      },
      "source": [
        "train_data[\"label\"] = train_data[\"label\"].apply(lambda x: 1 if x == \"entailment\" else 0)\n",
        "val_data[\"label\"] = val_data[\"label\"].apply(lambda x: 1 if x == \"entailment\" else 0)"
      ],
      "execution_count": 7,
      "outputs": []
    },
    {
      "cell_type": "code",
      "metadata": {
        "id": "eX1furbesyDO"
      },
      "source": [
        "morph_vocab = MorphVocab()\n",
        "segmenter = Segmenter()\n",
        "emb = NewsEmbedding()\n",
        "morph_tagger = NewsMorphTagger(emb)"
      ],
      "execution_count": 8,
      "outputs": []
    },
    {
      "cell_type": "markdown",
      "metadata": {
        "id": "NlNG84KwoCah"
      },
      "source": [
        "# Preprocessing"
      ]
    },
    {
      "cell_type": "code",
      "metadata": {
        "id": "R3WuM2rzn6Ye"
      },
      "source": [
        "def get_lemmas(text):\n",
        "  text = Doc(text)\n",
        "  text.segment(segmenter) \n",
        "  text.tag_morph(morph_tagger)\n",
        "  for token in text.tokens:\n",
        "    token.lemmatize(morph_vocab)\n",
        "  return \" \".join([token.lemma for token in text.tokens if token.lemma not in russian_stopwords])\n",
        "\n",
        "def get_rid_punctuation(text):\n",
        "  text = text.translate(str.maketrans(\"\", \"\", punctuation))\n",
        "  text = re.sub(r'[0-9]+', \"digit\", text.lower())\n",
        "  return text.lower()"
      ],
      "execution_count": 9,
      "outputs": []
    },
    {
      "cell_type": "code",
      "metadata": {
        "id": "5wnvI8y_oFRS"
      },
      "source": [
        "train_data[\"premise\"] = train_data[\"premise\"].apply(lambda t: get_rid_punctuation(t))\n",
        "train_data[\"hypothesis\"] = train_data[\"hypothesis\"].apply(lambda t: get_rid_punctuation(t))"
      ],
      "execution_count": 10,
      "outputs": []
    },
    {
      "cell_type": "markdown",
      "metadata": {
        "id": "JjLDA7x6bfRa"
      },
      "source": [
        "# New type of dataset"
      ]
    },
    {
      "cell_type": "code",
      "metadata": {
        "id": "Wwh30ec-cVEQ"
      },
      "source": [
        "max_len = 128"
      ],
      "execution_count": 13,
      "outputs": []
    },
    {
      "cell_type": "code",
      "metadata": {
        "id": "cSYuN4Ap4gix"
      },
      "source": [
        "from transformers import BertTokenizer"
      ],
      "execution_count": 11,
      "outputs": []
    },
    {
      "cell_type": "code",
      "metadata": {
        "id": "phIH7qIfcpz_"
      },
      "source": [
        "tokenizer = BertTokenizer.from_pretrained(\"DeepPavlov/rubert-base-cased\")"
      ],
      "execution_count": 52,
      "outputs": []
    },
    {
      "cell_type": "code",
      "metadata": {
        "id": "EXM38YkibjoR"
      },
      "source": [
        "class BertDataset:\n",
        "    def __init__(self, q1, q2, target=[]):\n",
        "        self.q1 = q1\n",
        "        self.q2 = q2\n",
        "        self.target = target \n",
        "        \n",
        "    def __getitem__(self, item):\n",
        "        q1 = \" \".join(str(self.q1[item]).split())\n",
        "        q2 = \" \".join(str(self.q2[item]).split())\n",
        "\n",
        "        inputs = tokenizer([q1, q2], add_special_tokens=True, pad_to_max_length=True, truncation=True, max_length=max_len, return_tensors='pt')\n",
        "\n",
        "        return { \n",
        "            \"inputs\": torch.tensor(inputs[\"input_ids\"], dtype=torch.long), \n",
        "            \"mask\": torch.tensor(inputs[\"attention_mask\"], dtype=torch.long),\n",
        "            \"token_type_ids\": torch.tensor(inputs[\"token_type_ids\"], dtype=torch.long), \n",
        "            \"labels\": torch.tensor(int(self.target[item]), dtype=torch.long)\n",
        "        }\n",
        "\n",
        "    def __len__(self):\n",
        "        return len(self.target)"
      ],
      "execution_count": 14,
      "outputs": []
    },
    {
      "cell_type": "code",
      "metadata": {
        "id": "DeS41GKAccpc"
      },
      "source": [
        "dataset_train = BertDataset(train_data[\"premise\"], train_data[\"hypothesis\"], train_data[\"label\"])\n",
        "dataset_val = BertDataset(val_data[\"premise\"], val_data[\"hypothesis\"], val_data[\"label\"])"
      ],
      "execution_count": 15,
      "outputs": []
    },
    {
      "cell_type": "code",
      "metadata": {
        "id": "GIs2-U-1cg9n"
      },
      "source": [
        "train_loader = DataLoader(dataset_train, drop_last=True , batch_size=16)\n",
        "val_loader = DataLoader(dataset_val, drop_last=True, batch_size=16)"
      ],
      "execution_count": 16,
      "outputs": []
    },
    {
      "cell_type": "code",
      "metadata": {
        "id": "jgVK0R73S3Q4"
      },
      "source": [
        "batch = next(iter(train_loader))"
      ],
      "execution_count": 17,
      "outputs": []
    },
    {
      "cell_type": "markdown",
      "metadata": {
        "id": "KKEiroxpLCal"
      },
      "source": [
        "## bert model 2"
      ]
    },
    {
      "cell_type": "code",
      "metadata": {
        "colab": {
          "base_uri": "https://localhost:8080/",
          "height": 116,
          "referenced_widgets": [
            "ee18396e2971483f9c538d9381104d33",
            "cf5f9f091aab40039b1c30475e295392",
            "e54420bb53b3469aa6ef60d14978f264",
            "54d00a0e94e04578b4859670f101e390",
            "467a0713100541a59b91a27525fbcb56",
            "fd5ca2e8e23445de871147c7aeac42bd",
            "5f54876a663c4d4fa0f6d26c1a5d3b75",
            "6f6fc659b9224c08949d1b04e3d16ffd",
            "5bc7cf856917429a917a6d23d4bb6ccc",
            "c3657ae4d8e24d6fab1dc6e465d8b208",
            "f2ab1dc1eb8c427db80bd1508dac66ab",
            "514b4e9072a146d4adf12cb9d4c7a152",
            "08a083aff10d4102bc794cdfdc847854",
            "eacf38849bf64df799d8b23b0df33edb",
            "67490a5df885442b934e385520e98538",
            "677bcb6f6f41412da6f235481964b8cf"
          ]
        },
        "id": "57zXPktxVJbz",
        "outputId": "db382c67-3f12-4070-c089-9b1fab57ddf6"
      },
      "source": [
        "from transformers import AutoModel\n",
        "\n",
        "model = AutoModel.from_pretrained(\"DeepPavlov/rubert-base-cased\", output_hidden_states = True)"
      ],
      "execution_count": 18,
      "outputs": [
        {
          "output_type": "display_data",
          "data": {
            "application/vnd.jupyter.widget-view+json": {
              "model_id": "ee18396e2971483f9c538d9381104d33",
              "version_minor": 0,
              "version_major": 2
            },
            "text/plain": [
              "HBox(children=(FloatProgress(value=0.0, description='Downloading', max=642.0, style=ProgressStyle(description_…"
            ]
          },
          "metadata": {
            "tags": []
          }
        },
        {
          "output_type": "stream",
          "text": [
            "\n"
          ],
          "name": "stdout"
        },
        {
          "output_type": "display_data",
          "data": {
            "application/vnd.jupyter.widget-view+json": {
              "model_id": "5bc7cf856917429a917a6d23d4bb6ccc",
              "version_minor": 0,
              "version_major": 2
            },
            "text/plain": [
              "HBox(children=(FloatProgress(value=0.0, description='Downloading', max=711456796.0, style=ProgressStyle(descri…"
            ]
          },
          "metadata": {
            "tags": []
          }
        },
        {
          "output_type": "stream",
          "text": [
            "\n"
          ],
          "name": "stdout"
        }
      ]
    },
    {
      "cell_type": "code",
      "metadata": {
        "id": "TLiapHXKg3g4"
      },
      "source": [
        "from torch.nn import BCELoss\n",
        "from torch.nn.functional import cosine_similarity\n",
        "from torch.nn import ReLU"
      ],
      "execution_count": null,
      "outputs": []
    },
    {
      "cell_type": "code",
      "metadata": {
        "id": "X-um-BHmaYcY"
      },
      "source": [
        "class EntailmentClassifier(nn.Module):\n",
        "    def __init__(self, model, metric, softmax):\n",
        "        super().__init__()\n",
        "\n",
        "        self.model = model\n",
        "        self.metric = cosine_similarity\n",
        "        self.softmax = softmax\n",
        "\n",
        "    def mean_pooling(self, model_output, attention_mask):\n",
        "        token_embeddings = model_output[0]\n",
        "        input_mask_expanded = attention_mask.unsqueeze(-1).expand(token_embeddings.size()).float()\n",
        "        sum_embeddings = torch.sum(token_embeddings * input_mask_expanded, 1)\n",
        "        sum_mask = torch.clamp(input_mask_expanded.sum(1), min=1e-9)\n",
        "        return sum_embeddings / sum_mask\n",
        "\n",
        "    def forward(self, inputs, mask, token_type_ids):\n",
        "        sent_1 = model(inputs[:, 0, :], attention_mask=mask[:,0, :], token_type_ids=token_type_ids[:,0, :])\n",
        "        sent_2 = model(inputs[:, 1, :], attention_mask=mask[:, 1, :], token_type_ids=token_type_ids[:, 1, :])\n",
        "        \n",
        "        sent_1_emb = self.mean_pooling(sent_1, mask[:,0, :])\n",
        "        sent_2_emb = self.mean_pooling(sent_2, mask[:, 1, :])\n",
        "\n",
        "        proba = self.softmax(self.metric(sent_1_emb, sent_2_emb))\n",
        "        return proba"
      ],
      "execution_count": null,
      "outputs": []
    },
    {
      "cell_type": "code",
      "metadata": {
        "id": "2FnmQ21La2r7"
      },
      "source": [
        "inputs = batch[\"inputs\"].squeeze(1).to(device)\n",
        "attention_mask = batch[\"mask\"].squeeze(1).to(device)\n",
        "token_type_ids = batch[\"token_type_ids\"].squeeze(1).to(device)\n",
        "labels = batch[\"labels\"].to(torch.float32).to(device)"
      ],
      "execution_count": null,
      "outputs": []
    },
    {
      "cell_type": "code",
      "metadata": {
        "colab": {
          "background_save": true
        },
        "id": "Ywabg4Xh8ENH"
      },
      "source": [
        "predicted = clf(inputs, attention_mask, token_type_ids)"
      ],
      "execution_count": null,
      "outputs": []
    },
    {
      "cell_type": "code",
      "metadata": {
        "id": "eMfMjA6ic2W1"
      },
      "source": [
        "score = accuracy_score(predicted.cpu().detach().numpy(), labels.cpu())"
      ],
      "execution_count": null,
      "outputs": []
    },
    {
      "cell_type": "code",
      "metadata": {
        "id": "LxTvQ69fd3sV"
      },
      "source": [
        "loss = BCELoss()\n",
        "soft = ReLU()\n",
        "clf = EntailmentClassifier(model, cosine_similarity, soft).to(device)\n",
        "optimizer = torch.optim.Adam(clf.parameters(), lr=2e-5)\n",
        "criterion = nn.BCELoss()\n",
        "metric = accuracy_score"
      ],
      "execution_count": null,
      "outputs": []
    },
    {
      "cell_type": "code",
      "metadata": {
        "colab": {
          "background_save": true,
          "base_uri": "https://localhost:8080/",
          "height": 683
        },
        "id": "enCJYEvgfaDk",
        "outputId": "c41cec37-6caa-4f31-d41d-ab5f616d61ea"
      },
      "source": [
        "train_history = []\n",
        "valid_history = []\n",
        "train_history_metric, valid_history_metric = [], []\n",
        "\n",
        "N_EPOCHS = 3\n",
        "CLIP = 1\n",
        "best_valid_loss = float('inf')\n",
        "\n",
        "for epoch in range(N_EPOCHS):\n",
        "    \n",
        "    start_time = time.time()\n",
        "    \n",
        "    train_loss, train_metric = train(clf, train_loader, optimizer, criterion, CLIP, metric, train_history, valid_history, train_history_metric, valid_history_metric)\n",
        "    valid_loss = evaluate(clf, val_loader, criterion)\n",
        "    \n",
        "    end_time = time.time()\n",
        "    \n",
        "    epoch_mins, epoch_secs = epoch_time(start_time, end_time)\n",
        "    \n",
        "    if valid_loss < best_valid_loss:\n",
        "        best_valid_loss = valid_loss\n",
        "        torch.save(clf.state_dict(), 'best-val-model.pt')\n",
        "    \n",
        "    train_history.append(train_loss)\n",
        "    valid_history.append(valid_loss)\n",
        "    print(f'Epoch: {epoch+1:02} | Time: {epoch_mins}m {epoch_secs}s')\n",
        "    print(f'\\tTrain Loss: {train_loss:.3f} | Train PPL: {math.exp(train_loss):7.3f}')\n",
        "    print(f'\\t Val. Loss: {valid_loss:.3f} |  Val. PPL: {math.exp(valid_loss):7.3f}')"
      ],
      "execution_count": null,
      "outputs": [
        {
          "output_type": "display_data",
          "data": {
            "image/png": "[encoded data removed]",
            "text/plain": [
              "<Figure size 864x576 with 2 Axes>"
            ]
          },
          "metadata": {
            "tags": []
          }
        },
        {
          "output_type": "stream",
          "text": [
            "Epoch: 10 | Time: 2m 0s\n",
            "\tTrain Loss: 0.808 | Train PPL:   2.243\n",
            "\t Val. Loss: 5.577 |  Val. PPL: 264.285\n"
          ],
          "name": "stdout"
        }
      ]
    },
    {
      "cell_type": "code",
      "metadata": {
        "id": "kxNb2dJSyv0o"
      },
      "source": [
        "true_labels, pred_labels = [], []\n",
        "with torch.no_grad():\n",
        "    for batch in val_loader:\n",
        "        inputs = batch[\"inputs\"].squeeze(1).to(device)\n",
        "        attention_mask = batch[\"mask\"].squeeze(1).to(device)\n",
        "        token_type_ids = batch[\"token_type_ids\"].squeeze(1).to(device)\n",
        "        labels = batch[\"labels\"].to(torch.float32).to(device)\n",
        "        \n",
        "        output = clf(inputs, attention_mask, token_type_ids)\n",
        "\n",
        "        output = torch.where(output > 0.5, 1, 0)\n",
        "        true_labels.append(labels.cpu().numpy())\n",
        "        pred_labels.append(output.cpu().numpy())\n",
        "true_labels = np.concatenate(true_labels, axis=0)\n",
        "pred_labels = np.concatenate(pred_labels, axis=0)"
      ],
      "execution_count": null,
      "outputs": []
    },
    {
      "cell_type": "code",
      "metadata": {
        "id": "5BFv3Q3CcjMA"
      },
      "source": [
        "def train(model, iterator, optimizer, criterion, clip, metric, train_history=None, valid_history=None, train_history_metric=None, valid_history_metric=None):\n",
        "    model.train()\n",
        "    \n",
        "    epoch_loss, epoch_accuracy = 0, 0\n",
        "    history, metric_history = [], []\n",
        "    for i, batch in enumerate(iterator):\n",
        "        \n",
        "        inputs = batch[\"inputs\"].squeeze(1).to(device)\n",
        "        attention_mask = batch[\"mask\"].squeeze(1).to(device)\n",
        "        token_type_ids = batch[\"token_type_ids\"].squeeze(1).to(device)\n",
        "        labels = batch[\"labels\"].to(torch.float32).to(device)\n",
        "        \n",
        "        optimizer.zero_grad()\n",
        "        \n",
        "        output = model(inputs, attention_mask, token_type_ids)\n",
        "\n",
        "        loss = criterion(output, labels) \n",
        "        loss.backward()\n",
        "        torch.nn.utils.clip_grad_norm_(model.parameters(), clip)\n",
        "        optimizer.step()\n",
        "        \n",
        "        epoch_loss += loss.item()\n",
        "\n",
        "        predicted = np.array([1 if i > 0.5 else 0 for i in output])\n",
        "        metric_result = metric(predicted, labels.cpu().numpy())\n",
        "\n",
        "        history.append(loss.cpu().data.numpy())\n",
        "        metric_history.append(metric_result)\n",
        "        epoch_accuracy += metric_result.item()\n",
        "\n",
        "        if (i+1)%10==0:\n",
        "            fig, ax = plt.subplots(nrows=1, ncols=2, figsize=(12, 8))\n",
        "\n",
        "            clear_output(True)\n",
        "            ax[0].plot(history, label='train loss')\n",
        "            ax[0].set_xlabel('Batch')\n",
        "            ax[0].set_title('Train loss')\n",
        "            if train_history is not None:\n",
        "                ax[1].plot(train_history, label='general train history')\n",
        "                ax[1].set_xlabel('Epoch')\n",
        "            if valid_history is not None:\n",
        "                ax[1].plot(valid_history, label='general valid history')\n",
        "            plt.legend()\n",
        "            \n",
        "            plt.show()\n",
        "        if (i+1) % 20 == 0:\n",
        "          fig, ax = plt.subplots(nrows=1, ncols=2, figsize=(12, 8))\n",
        "\n",
        "          clear_output(True)\n",
        "          ax[0].plot(metric_history, label='train f1')\n",
        "          ax[0].set_xlabel('Batch')\n",
        "          ax[0].set_title('Train accuracy')\n",
        "          if train_history_metric is not None:\n",
        "              ax[1].plot(train_history_metric, label='general train accuracy')\n",
        "              ax[1].set_xlabel('Epoch')\n",
        "          if valid_history_metric is not None:\n",
        "              ax[1].plot(valid_history_metric, label='general valid accuracy')\n",
        "          plt.legend()\n",
        "          plt.show()\n",
        "          \n",
        "        \n",
        "    return epoch_loss / (i + 1), epoch_accuracy / (i + 1)\n",
        "\n",
        "def evaluate(model, iterator, criterion):\n",
        "    \n",
        "    model.eval()\n",
        "    \n",
        "    epoch_loss = 0\n",
        "    \n",
        "    history = []\n",
        "    \n",
        "    with torch.no_grad():\n",
        "    \n",
        "        for i, batch in enumerate(iterator):\n",
        "\n",
        "            inputs = batch[\"inputs\"].squeeze(1).to(device)\n",
        "            attention_mask = batch[\"mask\"].squeeze(1).to(device)\n",
        "            token_type_ids = batch[\"token_type_ids\"].squeeze(1).to(device)\n",
        "            labels = batch[\"labels\"].to(torch.float32).to(device)\n",
        "            \n",
        "            output = model(inputs, attention_mask, token_type_ids)\n",
        "\n",
        "            loss = criterion(output, labels)\n",
        "            \n",
        "            epoch_loss += loss.item()\n",
        "        \n",
        "    return epoch_loss / (i + 1)\n",
        "\n",
        "def epoch_time(start_time, end_time):\n",
        "    elapsed_time = end_time - start_time\n",
        "    elapsed_mins = int(elapsed_time / 60)\n",
        "    elapsed_secs = int(elapsed_time - (elapsed_mins * 60))\n",
        "    return elapsed_mins, elapsed_secs"
      ],
      "execution_count": null,
      "outputs": []
    },
    {
      "cell_type": "markdown",
      "metadata": {
        "id": "_THyGiwJeXgr"
      },
      "source": [
        "# solution with embeds from word2vec "
      ]
    },
    {
      "cell_type": "code",
      "metadata": {
        "id": "CWSeDfzFe1MJ"
      },
      "source": [
        "from navec import Navec"
      ],
      "execution_count": 59,
      "outputs": []
    },
    {
      "cell_type": "code",
      "metadata": {
        "id": "3gd5KuTueWKn"
      },
      "source": [
        "path = '/content/navec_news_v1_1B_250K_300d_100q.tar'\n",
        "navec = Navec.load(path)"
      ],
      "execution_count": 61,
      "outputs": []
    },
    {
      "cell_type": "code",
      "metadata": {
        "id": "BDDeVPRpgnv3"
      },
      "source": [
        "def get_embd(sent_1, sent_2):\n",
        "  sent_1 = np.array([navec.get(word) for word in sent_1.split()])\n",
        "  sent_2 = np.array([navec.get(word) for word in sent_2.split()])\n",
        "\n",
        "  sent_1 = np.mean(sent_1, axis=0)\n",
        "  sent_2 = np.mean(sent_2, axis=0)\n",
        "  return np.hstack([sent_1, sent_2])"
      ],
      "execution_count": 71,
      "outputs": []
    },
    {
      "cell_type": "code",
      "metadata": {
        "id": "4HKoL9qahWhW"
      },
      "source": [
        "sentence_1 = np.mean(s_1, axis=0)\n",
        "sentence_2 = np.mean(s_2, axis=0)"
      ],
      "execution_count": 97,
      "outputs": []
    },
    {
      "cell_type": "code",
      "metadata": {
        "id": "MbAWNo0LkKDb"
      },
      "source": [
        "train_data['mean_embedding'] = train_data.apply(lambda x: get_embd(x['premise'], x['hypothesis']), axis=1)"
      ],
      "execution_count": 102,
      "outputs": []
    },
    {
      "cell_type": "code",
      "metadata": {
        "id": "3CSJZsD2mNTg"
      },
      "source": [
        "train_ = train_data[\"mean_embedding\"].to_list()"
      ],
      "execution_count": 120,
      "outputs": []
    },
    {
      "cell_type": "code",
      "metadata": {
        "id": "sojS1kLBiK1E"
      },
      "source": [
        "result = 1 - spatial.distance.cosine(sentence_1, sentence_2)"
      ],
      "execution_count": 98,
      "outputs": []
    }
  ]
}